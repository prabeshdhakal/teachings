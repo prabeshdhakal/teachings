{
 "cells": [
  {
   "cell_type": "markdown",
   "metadata": {},
   "source": [
    "# Week 6: Conditionals and Control Structures in Python\n",
    "\n",
    "By [Prabesh Dhakal](https://prabesh.de)\n",
    "* Date: Nov. 24, 2020\n",
    "* Course: Software for Analysing Data\n",
    "\n",
    "**Contents**\n",
    "\n",
    "1. Conditionals\n",
    "1. Loops\n",
    "1. Functions\n",
    "1. Classes"
   ]
  },
  {
   "cell_type": "code",
   "execution_count": null,
   "metadata": {},
   "outputs": [],
   "source": [
    "var_1 = 3\n",
    "var_2 = []\n",
    "var_3 = {4}"
   ]
  },
  {
   "cell_type": "markdown",
   "metadata": {},
   "source": [
    "## Conditionals"
   ]
  },
  {
   "cell_type": "code",
   "execution_count": null,
   "metadata": {},
   "outputs": [],
   "source": [
    "bool(var_3)"
   ]
  },
  {
   "cell_type": "code",
   "execution_count": null,
   "metadata": {},
   "outputs": [],
   "source": [
    "bool(var_2)"
   ]
  },
  {
   "cell_type": "code",
   "execution_count": null,
   "metadata": {},
   "outputs": [],
   "source": [
    "bool(None)"
   ]
  },
  {
   "cell_type": "code",
   "execution_count": null,
   "metadata": {},
   "outputs": [],
   "source": [
    "bool(\"\")"
   ]
  },
  {
   "cell_type": "code",
   "execution_count": null,
   "metadata": {},
   "outputs": [],
   "source": [
    "bool(\" \")"
   ]
  },
  {
   "cell_type": "code",
   "execution_count": null,
   "metadata": {},
   "outputs": [],
   "source": [
    "# comparison operator\n",
    "np.sqrt(4) == 2"
   ]
  },
  {
   "cell_type": "code",
   "execution_count": null,
   "metadata": {},
   "outputs": [],
   "source": [
    "np.sqrt(45) >= 13"
   ]
  },
  {
   "cell_type": "code",
   "execution_count": null,
   "metadata": {},
   "outputs": [],
   "source": [
    "# boolean binary operators\n",
    "True and False"
   ]
  },
  {
   "cell_type": "code",
   "execution_count": null,
   "metadata": {},
   "outputs": [],
   "source": [
    "True or not False"
   ]
  },
  {
   "cell_type": "code",
   "execution_count": null,
   "metadata": {},
   "outputs": [],
   "source": [
    "# combining comparison and boolean operators\n",
    "(5 == 5.0) and ([3, 4] == [4, 3])"
   ]
  },
  {
   "cell_type": "code",
   "execution_count": null,
   "metadata": {},
   "outputs": [],
   "source": [
    "x = int(input(\"Enter your number: \"))\n",
    "\n",
    "# code blocks \n",
    "# - (tabs vs spaces; 1 tab = 4 spaces)\n",
    "# - no curly brackets (yay!)\n",
    "\n",
    "if x % 2 == 0:\n",
    "    print(\"Your number is even.\")\n",
    "\n",
    "elif x % 3 == 0:  # 6 is ignored :(\n",
    "    print(\"Your number is divisible by 3.\")\n",
    "\n",
    "else:\n",
    "    print(\"Your number is odd.\")"
   ]
  },
  {
   "cell_type": "code",
   "execution_count": null,
   "metadata": {},
   "outputs": [],
   "source": [
    "x = int(input(\"Enter your number: \"))\n",
    "\n",
    "if x % 2 == 0:\n",
    "    print(\"Your number is even.\")"
   ]
  },
  {
   "cell_type": "markdown",
   "metadata": {},
   "source": [
    "## Loops"
   ]
  },
  {
   "cell_type": "code",
   "execution_count": null,
   "metadata": {},
   "outputs": [],
   "source": [
    "# a simple for loop\n",
    "for i in range(5):\n",
    "    print(i)"
   ]
  },
  {
   "cell_type": "code",
   "execution_count": null,
   "metadata": {},
   "outputs": [],
   "source": [
    "# break statement\n",
    "\n",
    "# nested control flow structures\n",
    "for i in range(10):\n",
    "\n",
    "    if i == 7:\n",
    "        break\n",
    "\n",
    "    print(i)"
   ]
  },
  {
   "cell_type": "code",
   "execution_count": null,
   "metadata": {},
   "outputs": [],
   "source": [
    "# continue statement\n",
    "\n",
    "num_list = []\n",
    "\n",
    "for i in range(10):\n",
    "\n",
    "    if i % 2 == 0:\n",
    "        continue\n",
    "\n",
    "    num_list.append(i) # this line is skipped if condition is met\n",
    "\n",
    "print(num_list)"
   ]
  },
  {
   "cell_type": "code",
   "execution_count": null,
   "metadata": {},
   "outputs": [],
   "source": [
    "# range() function is more efficient\n",
    "list(range(1, 10, 2))"
   ]
  },
  {
   "cell_type": "code",
   "execution_count": null,
   "metadata": {},
   "outputs": [],
   "source": [
    "# List comprehension\n",
    "[i for i in range(10) if i % 2 == 1]"
   ]
  },
  {
   "cell_type": "code",
   "execution_count": null,
   "metadata": {},
   "outputs": [],
   "source": [
    "[i % 2 == 0 for i in range(10)]"
   ]
  },
  {
   "cell_type": "code",
   "execution_count": null,
   "metadata": {},
   "outputs": [],
   "source": [
    "# while loop\n",
    "\n",
    "a = 5\n",
    "\n",
    "while a >= 0:\n",
    "    print(\"{} iterations left.\".format(a))\n",
    "    a = a - 1"
   ]
  },
  {
   "cell_type": "code",
   "execution_count": null,
   "metadata": {
    "scrolled": true
   },
   "outputs": [],
   "source": [
    "count = 1\n",
    "while True:\n",
    "    print(\"Iteration no.\", count)\n",
    "\n",
    "    count += 1\n",
    "\n",
    "    if count == 7:\n",
    "        break"
   ]
  },
  {
   "cell_type": "code",
   "execution_count": null,
   "metadata": {
    "scrolled": true
   },
   "outputs": [],
   "source": [
    "# enumerate function\n",
    "for i, j in enumerate(\"apple\"):\n",
    "    print(f\"Index: {i}, Value: {j}\")"
   ]
  },
  {
   "cell_type": "markdown",
   "metadata": {},
   "source": [
    "## Functions            \n",
    "\n",
    "* Lambda functions\n",
    "* `map`, `reduce`, `filter`"
   ]
  },
  {
   "cell_type": "code",
   "execution_count": null,
   "metadata": {},
   "outputs": [],
   "source": [
    "var_outside = 9000\n",
    "\n",
    "\n",
    "def func():\n",
    "    var_inside = 3\n",
    "    var_outside = 0\n",
    "    print(\"Function was called.\")"
   ]
  },
  {
   "cell_type": "code",
   "execution_count": null,
   "metadata": {},
   "outputs": [],
   "source": [
    "func()"
   ]
  },
  {
   "cell_type": "code",
   "execution_count": null,
   "metadata": {
    "scrolled": true
   },
   "outputs": [],
   "source": [
    "var_inside  # var_inside is a local variable within func()"
   ]
  },
  {
   "cell_type": "code",
   "execution_count": null,
   "metadata": {},
   "outputs": [],
   "source": [
    "var_outside"
   ]
  },
  {
   "cell_type": "code",
   "execution_count": null,
   "metadata": {},
   "outputs": [],
   "source": [
    "# with keyword argument\n",
    "\n",
    "def change_var_outside(value, times_2=False):\n",
    "    global var_outside\n",
    "\n",
    "    if times_2 == True:\n",
    "        var_outside = value * 2\n",
    "\n",
    "    var_outside = value\n",
    "    \n",
    "    return var_outside"
   ]
  },
  {
   "cell_type": "code",
   "execution_count": null,
   "metadata": {},
   "outputs": [],
   "source": [
    "# 4 is assigned to `value` variable\n",
    "change_var_outside(4)"
   ]
  },
  {
   "cell_type": "code",
   "execution_count": null,
   "metadata": {},
   "outputs": [],
   "source": [
    "var_outside"
   ]
  },
  {
   "cell_type": "code",
   "execution_count": null,
   "metadata": {
    "scrolled": true
   },
   "outputs": [],
   "source": [
    "change_var_outside(20, times_2=True)"
   ]
  },
  {
   "cell_type": "code",
   "execution_count": null,
   "metadata": {},
   "outputs": [],
   "source": [
    "change_var_outside(times_2=True, value=20)"
   ]
  },
  {
   "cell_type": "code",
   "execution_count": null,
   "metadata": {},
   "outputs": [],
   "source": [
    "help(change_var_outside)"
   ]
  },
  {
   "cell_type": "markdown",
   "metadata": {},
   "source": [
    "## Classes\n",
    "\n",
    "* provies a way of bundling *data* and *functionality* together\n",
    "* is a blueprint that can be used to create new *instances* of objects\n",
    "* are created at runtime and can be modified further after creation\n",
    "* all about classes in [Python docs](https://docs.python.org/3/tutorial/classes.html)"
   ]
  },
  {
   "cell_type": "code",
   "execution_count": null,
   "metadata": {},
   "outputs": [],
   "source": [
    "class KittenProfile:\n",
    "    animal_type = \"Cat\" # data"
   ]
  },
  {
   "cell_type": "code",
   "execution_count": null,
   "metadata": {},
   "outputs": [],
   "source": [
    "a = KittenProfile()\n",
    "a.animal_type"
   ]
  },
  {
   "cell_type": "code",
   "execution_count": null,
   "metadata": {},
   "outputs": [],
   "source": [
    "b = KittenProfile()\n",
    "b.animal_type"
   ]
  },
  {
   "cell_type": "code",
   "execution_count": null,
   "metadata": {},
   "outputs": [],
   "source": [
    "# a and b are separate instances of KittenProfile class\n",
    "# they are completely independent\n",
    "\n",
    "hex(id(a)) # memory address of a"
   ]
  },
  {
   "cell_type": "code",
   "execution_count": null,
   "metadata": {},
   "outputs": [],
   "source": [
    "hex(id(b))"
   ]
  },
  {
   "cell_type": "code",
   "execution_count": null,
   "metadata": {},
   "outputs": [],
   "source": [
    "hex(id(KittenProfile)) # memory address of the Class object"
   ]
  },
  {
   "cell_type": "code",
   "execution_count": null,
   "metadata": {},
   "outputs": [],
   "source": [
    "# approriate way to initialize classes\n",
    "\n",
    "# __init__() method represents a constructor in Python\n",
    "#     - gets automatically called with a class object is instantiated\n",
    "#     - allows storage of certain data of the object\n",
    "# attributes: variables that belong to a class \n",
    "# self: a variable that represents the instance of the object itself\n",
    "\n",
    "class KittenProfile:\n",
    "    \n",
    "    def __init__(self, name, age):\n",
    "        self.name = name\n",
    "        self.age = age\n",
    "        self.skills = [\"meow\"]\n",
    "        self.animal_type = \"Cat\""
   ]
  },
  {
   "cell_type": "code",
   "execution_count": null,
   "metadata": {},
   "outputs": [],
   "source": [
    "cat_1 = KittenProfile(\"Rosa\", 23)"
   ]
  },
  {
   "cell_type": "code",
   "execution_count": null,
   "metadata": {},
   "outputs": [],
   "source": [
    "# name attribute of c\n",
    "cat_1.name # and `age` are set when the object is instantiated"
   ]
  },
  {
   "cell_type": "code",
   "execution_count": null,
   "metadata": {},
   "outputs": [],
   "source": [
    "cat_1.skills # and `animal_type` have default values"
   ]
  },
  {
   "cell_type": "code",
   "execution_count": null,
   "metadata": {},
   "outputs": [],
   "source": [
    "# class with functionality attached\n",
    "class KittenProfile:\n",
    "    \n",
    "    def __init__(self, name, age):\n",
    "        self.name = name\n",
    "        self.age = age\n",
    "        self.skills = [\"meow\"]\n",
    "        self.animal_type = \"Cat\"\n",
    "        \n",
    "    def shout(self):\n",
    "        return \"HEY A KITTEN!\""
   ]
  },
  {
   "cell_type": "code",
   "execution_count": null,
   "metadata": {},
   "outputs": [],
   "source": [
    "cat_2 = KittenProfile(\"Lucy\", 3)"
   ]
  },
  {
   "cell_type": "code",
   "execution_count": null,
   "metadata": {},
   "outputs": [],
   "source": [
    "cat_2.shout()"
   ]
  },
  {
   "cell_type": "code",
   "execution_count": null,
   "metadata": {},
   "outputs": [],
   "source": [
    "# use attributes in a function inside a class object\n",
    "\n",
    "class KittenProfile:\n",
    "    \n",
    "    def __init__(self, name, age):\n",
    "        self.name = name\n",
    "        self.age = age\n",
    "        self.skills = [\"meow\"]\n",
    "        self.animal_type = \"Cat\"\n",
    "        \n",
    "    def shout(self):\n",
    "        return \"Hey a kitten!\"\n",
    "    \n",
    "    def describe_cat(self):\n",
    "        return \"The kitten is named {} and is {} months old\".format(self.name, self.age)"
   ]
  },
  {
   "cell_type": "code",
   "execution_count": null,
   "metadata": {},
   "outputs": [],
   "source": [
    "cat_3 = KittenProfile(\"Nala\", 43)"
   ]
  },
  {
   "cell_type": "code",
   "execution_count": null,
   "metadata": {},
   "outputs": [],
   "source": [
    "cat_3.describe_cat()"
   ]
  },
  {
   "cell_type": "code",
   "execution_count": null,
   "metadata": {},
   "outputs": [],
   "source": [
    "# update attributes\n",
    "\n",
    "class KittenProfile:\n",
    "    \n",
    "    def __init__(self, name, age):\n",
    "        self.name = name\n",
    "        self.age = age\n",
    "        self.skills = [\"meow\"]\n",
    "        self.animal_type = \"Cat\"\n",
    "        \n",
    "    def shout(self):\n",
    "        return \"Hey a kitten!\"\n",
    "    \n",
    "    def describe_cat(self):\n",
    "        return \"The kitten is named {} and is {} months old\".format(self.name, self.age)\n",
    "\n",
    "    def add_skill(self, skill):\n",
    "        self.skills.append(skill)"
   ]
  },
  {
   "cell_type": "code",
   "execution_count": null,
   "metadata": {},
   "outputs": [],
   "source": [
    "cat_4 = KittenProfile(\"Simba\", 32)"
   ]
  },
  {
   "cell_type": "code",
   "execution_count": null,
   "metadata": {},
   "outputs": [],
   "source": [
    "cat_4.skills"
   ]
  },
  {
   "cell_type": "code",
   "execution_count": null,
   "metadata": {},
   "outputs": [],
   "source": [
    "cat_4.add_skill(\"purr\")"
   ]
  },
  {
   "cell_type": "code",
   "execution_count": null,
   "metadata": {},
   "outputs": [],
   "source": [
    "cat_4.skills"
   ]
  },
  {
   "cell_type": "code",
   "execution_count": null,
   "metadata": {},
   "outputs": [],
   "source": [
    "cat_5 = KittenProfile(\"Simba\", 32)"
   ]
  },
  {
   "cell_type": "code",
   "execution_count": null,
   "metadata": {},
   "outputs": [],
   "source": [
    "cat_5.skills"
   ]
  },
  {
   "cell_type": "code",
   "execution_count": null,
   "metadata": {},
   "outputs": [],
   "source": [
    "cat_4.skills"
   ]
  },
  {
   "cell_type": "code",
   "execution_count": null,
   "metadata": {},
   "outputs": [],
   "source": [
    "# where are classes used? \n",
    "# Source: https://scikit-learn.org/stable/modules/tree.html#classification\n",
    "from sklearn.tree import DecisionTreeClassifier, plot_tree\n",
    "from sklearn.datasets import load_iris\n",
    "\n",
    "X, y = load_iris(return_X_y=True)\n",
    "\n",
    "model = DecisionTreeClassifier()\n",
    "model.fit(X, y)\n",
    "\n",
    "tree_plot = plot_tree(model)"
   ]
  },
  {
   "cell_type": "code",
   "execution_count": null,
   "metadata": {},
   "outputs": [],
   "source": [
    "help(DecisionTreeClassifier)"
   ]
  },
  {
   "cell_type": "markdown",
   "metadata": {},
   "source": [
    "## Misc. Notes "
   ]
  },
  {
   "cell_type": "markdown",
   "metadata": {},
   "source": [
    "### Docstring\n",
    "\n",
    "* Docstrings (document strings) are used to document Python code.\n",
    "* Used for Python modules, functions, classes, and methods\n",
    "* Any serious program *contains* a docstring.\n",
    "* You declare docstrings with 3 carets ` ``` ` \n",
    "* Structure:\n",
    "    * Short description: at least 1 statement saying what the function/class does\n",
    "    * Long description: 1 line below the first statement should be blank\n",
    "    * Parameters that the function takes as input \n",
    "    * Output of the function\n",
    "    \n",
    "* More on Docstring: https://www.datacamp.com/community/tutorials/docstrings-python"
   ]
  },
  {
   "cell_type": "code",
   "execution_count": null,
   "metadata": {},
   "outputs": [],
   "source": [
    "# with comment\n",
    "\n",
    "\n",
    "def change_var_outside(value, times_2=False):\n",
    "    # Changes the global variable var_outside with user defined value.\n",
    "\n",
    "    # Parameters:\n",
    "    # value (int): the value to replace the global variable with\n",
    "    # times_2 (bool): multiplies value by 2 if True. (default=False)\n",
    "\n",
    "    # Returns:\n",
    "    # int : new value of var_outside.\n",
    "\n",
    "    global var_outside\n",
    "\n",
    "    if times_2 == True:\n",
    "        var_outside = value * 2\n",
    "\n",
    "    var_outside = value\n",
    "\n",
    "    return var_outside"
   ]
  },
  {
   "cell_type": "code",
   "execution_count": null,
   "metadata": {},
   "outputs": [],
   "source": [
    "help(change_var_outside)"
   ]
  },
  {
   "cell_type": "code",
   "execution_count": null,
   "metadata": {},
   "outputs": [],
   "source": [
    "# with docstring\n",
    "\n",
    "\n",
    "def change_var_outside(value, times_2=False):\n",
    "    \"\"\"Changes the global variable var_outside with user defined value.\n",
    "\n",
    "    Parameters:\n",
    "    -----------\n",
    "    value (int): the value to replace the global variable with\n",
    "    times_2 (bool): multiplies value by 2 if True. (default=False)\n",
    "\n",
    "    Returns:\n",
    "    --------\n",
    "    int : new value of var_outside.\n",
    "    \"\"\"\n",
    "    global var_outside\n",
    "\n",
    "    if times_2 == True:\n",
    "        var_outside = value * 2\n",
    "\n",
    "    var_outside = value\n",
    "\n",
    "    return var_outside"
   ]
  },
  {
   "cell_type": "code",
   "execution_count": null,
   "metadata": {},
   "outputs": [],
   "source": [
    "help(change_var_outside)"
   ]
  },
  {
   "cell_type": "code",
   "execution_count": null,
   "metadata": {},
   "outputs": [],
   "source": [
    "change_var_outside.__doc__\n",
    "\n",
    "#print(change_var_outside.__doc__)"
   ]
  },
  {
   "cell_type": "markdown",
   "metadata": {},
   "source": [
    "* There are different approaches to writing Docstring: PyDoc, NumPy/SciPy docstrings, Google Docstrings\n",
    "* For more, read answer to [**this**](https://stackoverflow.com/questions/3898572/what-is-the-standard-python-docstring-format) Stack Overflow question."
   ]
  },
  {
   "cell_type": "markdown",
   "metadata": {},
   "source": [
    "### Lambda functions "
   ]
  },
  {
   "cell_type": "code",
   "execution_count": null,
   "metadata": {},
   "outputs": [],
   "source": [
    "def add_10(a):\n",
    "    return a + 10\n",
    "\n",
    "add_10(3)"
   ]
  },
  {
   "cell_type": "code",
   "execution_count": null,
   "metadata": {},
   "outputs": [],
   "source": [
    "plus_10 = lambda a: a + 10  # a is the argument"
   ]
  },
  {
   "cell_type": "code",
   "execution_count": null,
   "metadata": {},
   "outputs": [],
   "source": [
    "plus_10(3)"
   ]
  },
  {
   "cell_type": "code",
   "execution_count": null,
   "metadata": {},
   "outputs": [],
   "source": [
    "# lambda also supports multiple arguments\n",
    "add_abc = lambda a, b, c: a + b + c\n",
    "\n",
    "add_abc(1, 2, 3)"
   ]
  },
  {
   "cell_type": "code",
   "execution_count": null,
   "metadata": {},
   "outputs": [],
   "source": [
    "is_even = lambda a: a % 2 == 0\n",
    "\n",
    "is_even(5)"
   ]
  },
  {
   "cell_type": "code",
   "execution_count": null,
   "metadata": {
    "scrolled": true
   },
   "outputs": [],
   "source": [
    "# our lambda function does not work with lists\n",
    "num_list = [3, 4, 5, 6, 0.4]\n",
    "\n",
    "is_even(num_list)"
   ]
  },
  {
   "cell_type": "code",
   "execution_count": null,
   "metadata": {},
   "outputs": [],
   "source": [
    "# one way to resolve this\n",
    "for i in num_list:\n",
    "    print(is_even(i))"
   ]
  },
  {
   "cell_type": "markdown",
   "metadata": {},
   "source": [
    "### Map\n",
    "\n",
    "applies a function to all items in a list"
   ]
  },
  {
   "cell_type": "code",
   "execution_count": null,
   "metadata": {},
   "outputs": [],
   "source": [
    "# map(func, input_list)\n",
    "map(is_even, num_list)"
   ]
  },
  {
   "cell_type": "code",
   "execution_count": null,
   "metadata": {},
   "outputs": [],
   "source": [
    "print(map(is_even, num_list))"
   ]
  },
  {
   "cell_type": "code",
   "execution_count": null,
   "metadata": {
    "scrolled": true
   },
   "outputs": [],
   "source": [
    "list(map(is_even, num_list))"
   ]
  },
  {
   "cell_type": "code",
   "execution_count": null,
   "metadata": {},
   "outputs": [],
   "source": [
    "help(map)\n",
    "# take an iterable object and apply a function \n",
    "# to each item in the iterable"
   ]
  },
  {
   "cell_type": "markdown",
   "metadata": {},
   "source": [
    "### Filter "
   ]
  },
  {
   "cell_type": "code",
   "execution_count": null,
   "metadata": {
    "scrolled": true
   },
   "outputs": [],
   "source": [
    "# filter(func, iterable) ; iterables: sets, lists, tuples\n",
    "filter(is_even, [3, 4, 5, 6])"
   ]
  },
  {
   "cell_type": "code",
   "execution_count": null,
   "metadata": {
    "scrolled": true
   },
   "outputs": [],
   "source": [
    "list(filter(is_even, [3, 4, 5, 6]))"
   ]
  },
  {
   "cell_type": "markdown",
   "metadata": {},
   "source": [
    "### Reduce\n",
    "\n",
    "applies a function to all of the list elements\n",
    "\n",
    "1. first 2 elements of the sequence are picked and result is obtained\n",
    "1. same function is applied to the next element and the obtained result\n",
    "    * till no more elements are left in the container\n",
    "1. final result is returned"
   ]
  },
  {
   "cell_type": "code",
   "execution_count": null,
   "metadata": {},
   "outputs": [],
   "source": [
    "from functools import reduce"
   ]
  },
  {
   "cell_type": "code",
   "execution_count": null,
   "metadata": {},
   "outputs": [],
   "source": [
    "adder = lambda a, b: a + b\n",
    "\n",
    "reduce(adder, num_list)"
   ]
  },
  {
   "cell_type": "code",
   "execution_count": null,
   "metadata": {},
   "outputs": [],
   "source": [
    "((((3 + 4)+ 5) + 6) + 0.4)"
   ]
  },
  {
   "cell_type": "code",
   "execution_count": null,
   "metadata": {},
   "outputs": [],
   "source": []
  },
  {
   "cell_type": "code",
   "execution_count": null,
   "metadata": {},
   "outputs": [],
   "source": []
  },
  {
   "cell_type": "markdown",
   "metadata": {},
   "source": [
    "## Tasks\n",
    "\n",
    "Try to solve the tasks yourselves (group interaction is preffered). Do NOT look up the solution to the exercises."
   ]
  },
  {
   "cell_type": "markdown",
   "metadata": {},
   "source": [
    "### Task 1: Check Primality Functions\n",
    "(Source: [PracticePython: Exercise 11](http://www.practicepython.org/exercise/2014/04/16/11-check-primality-functions.html))\n",
    "\n",
    "* Task: **Ask the user for a number and determine whether the number is prime or not.**\n",
    "\n",
    "* Concepts used: `functions`, `user input`, `conditionals`, etc."
   ]
  },
  {
   "cell_type": "code",
   "execution_count": null,
   "metadata": {},
   "outputs": [],
   "source": []
  },
  {
   "cell_type": "code",
   "execution_count": null,
   "metadata": {},
   "outputs": [],
   "source": []
  },
  {
   "cell_type": "markdown",
   "metadata": {},
   "source": [
    "### Task 2: Gussing Game\n",
    "\n",
    "(Source: [PracticePython: Exercise 9](http://www.practicepython.org/exercise/2014/04/02/09-guessing-game-one.html))\n",
    "\n",
    "* Task: **Generate a random number between 1 and 9 (including 1 and 9). Ask the user to guess the number, then tell them whether they guessed too low, too high, or exactly right.**\n",
    "    * Keep the game going until the user types \"exit\".\n",
    "    * Keep track of how many guesses the user has taken. When the game ends, print this out.\n",
    "* Concepts used: `modules`, `random numbers`, `user input`, `conditionals`, etc."
   ]
  },
  {
   "cell_type": "code",
   "execution_count": null,
   "metadata": {},
   "outputs": [],
   "source": []
  },
  {
   "cell_type": "code",
   "execution_count": null,
   "metadata": {},
   "outputs": [],
   "source": []
  }
 ],
 "metadata": {
  "kernelspec": {
   "display_name": "Python 3",
   "language": "python",
   "name": "python3"
  },
  "language_info": {
   "codemirror_mode": {
    "name": "ipython",
    "version": 3
   },
   "file_extension": ".py",
   "mimetype": "text/x-python",
   "name": "python",
   "nbconvert_exporter": "python",
   "pygments_lexer": "ipython3",
   "version": "3.7.9"
  }
 },
 "nbformat": 4,
 "nbformat_minor": 4
}
